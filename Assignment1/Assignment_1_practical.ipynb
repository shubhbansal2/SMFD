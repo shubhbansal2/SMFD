{
  "nbformat": 4,
  "nbformat_minor": 0,
  "metadata": {
    "colab": {
      "provenance": []
    },
    "kernelspec": {
      "name": "python3",
      "display_name": "Python 3"
    },
    "language_info": {
      "name": "python"
    }
  },
  "cells": [
    {
      "cell_type": "code",
      "execution_count": 5,
      "metadata": {
        "colab": {
          "base_uri": "https://localhost:8080/"
        },
        "id": "QWW0I3Sr7QfB",
        "outputId": "60865d31-92f5-4bc6-c013-bcbc1ce2d868"
      },
      "outputs": [
        {
          "output_type": "stream",
          "name": "stdout",
          "text": [
            "100\n",
            "558488487.0\n"
          ]
        }
      ],
      "source": [
        "    n = int(input())\n",
        "    dp = [0] * (n + 1)\n",
        "    dp[0] = 1\n",
        "    for i in range(1, n + 1):\n",
        "        for j in range(1, i+1):\n",
        "            dp[j] += dp[j - 1]\n",
        "            dp[j]%=1e9+7\n",
        "    print(dp[n])"
      ]
    }
  ]
}